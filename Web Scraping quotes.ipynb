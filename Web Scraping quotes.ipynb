{
 "cells": [
  {
   "cell_type": "markdown",
   "id": "33264878-acf4-4335-966b-031f7b1209df",
   "metadata": {},
   "source": [
    "# WEB SCRAPING QUOTES WITH PYTHON"
   ]
  },
  {
   "cell_type": "markdown",
   "id": "e057735a-2c78-43ac-8cc5-24dc257fe273",
   "metadata": {},
   "source": [
    "## Introduction\n",
    "This project demonstrates Python web scraping on a real website, using 'requests' and 'BeautifulSoup'. We'll extract quotes, author names, and tags from http://quotes.toscrape.com/ and save the data for further analysis.\n",
    "Web scraping enables data gathering from online sources for analytics and machine learning."
   ]
  },
  {
   "cell_type": "markdown",
   "id": "a900621a-b170-4c00-9e08-cdd7bfdf29f1",
   "metadata": {},
   "source": [
    "## Setup & Imports"
   ]
  },
  {
   "cell_type": "code",
   "execution_count": 4,
   "id": "d8347549-7458-48ab-9127-5b031481444d",
   "metadata": {},
   "outputs": [],
   "source": [
    "import requests\n",
    "from bs4 import BeautifulSoup\n",
    "import pandas as pd"
   ]
  },
  {
   "cell_type": "markdown",
   "id": "ff90ba10-c3c1-42db-9d69-43f123341fea",
   "metadata": {},
   "source": [
    "## Target Website\n",
    "We'll scrape data from http://quotes.toscrape.com/, a practice website created for web scraping learners"
   ]
  },
  {
   "cell_type": "code",
   "execution_count": 33,
   "id": "31a6a7a1-ea29-4c70-a6ae-8129e6427f5c",
   "metadata": {},
   "outputs": [],
   "source": [
    "url= \"http://quotes.toscrape.com\""
   ]
  },
  {
   "cell_type": "markdown",
   "id": "bc3d4d58-24c9-43f3-9ad2-47d31e5c6966",
   "metadata": {},
   "source": [
    "## Fetch HTML Content\n",
    "We use 'requests.get()' to download the HTML content of the page. A 200 status code means success"
   ]
  },
  {
   "cell_type": "code",
   "execution_count": 16,
   "id": "73a23653-c75f-4ee2-926f-95c2907c9dbc",
   "metadata": {},
   "outputs": [
    {
     "name": "stdout",
     "output_type": "stream",
     "text": [
      "Status: 200\n",
      "Page fetched successfully!\n"
     ]
    }
   ],
   "source": [
    "response = requests.get(url)\n",
    "print(\"Status:\", response.status_code)\n",
    "if response.status_code == 200:\n",
    "    print(\"Page fetched successfully!\")\n",
    "else:\n",
    "    raise Exception(\"Failed to fetch the webpage.\")"
   ]
  },
  {
   "cell_type": "markdown",
   "id": "d742e3ca-07b5-4e2c-a67c-da722f521ef7",
   "metadata": {},
   "source": [
    "## Parse HTML and Extract Data\n",
    "We'll use \"BeautifulSoup' to parse the HTML, then find quote blocks and extract the quote text, the author, and associated tags from each block."
   ]
  },
  {
   "cell_type": "code",
   "execution_count": 21,
   "id": "675941de-16bc-4c65-a3e1-0444caa79e13",
   "metadata": {},
   "outputs": [
    {
     "data": {
      "text/html": [
       "<div>\n",
       "<style scoped>\n",
       "    .dataframe tbody tr th:only-of-type {\n",
       "        vertical-align: middle;\n",
       "    }\n",
       "\n",
       "    .dataframe tbody tr th {\n",
       "        vertical-align: top;\n",
       "    }\n",
       "\n",
       "    .dataframe thead th {\n",
       "        text-align: right;\n",
       "    }\n",
       "</style>\n",
       "<table border=\"1\" class=\"dataframe\">\n",
       "  <thead>\n",
       "    <tr style=\"text-align: right;\">\n",
       "      <th></th>\n",
       "      <th>Quote</th>\n",
       "      <th>Author</th>\n",
       "      <th>Tags</th>\n",
       "    </tr>\n",
       "  </thead>\n",
       "  <tbody>\n",
       "    <tr>\n",
       "      <th>0</th>\n",
       "      <td>“The world as we have created it is a process ...</td>\n",
       "      <td>Albert Einstein</td>\n",
       "      <td>change, deep-thoughts, thinking, world</td>\n",
       "    </tr>\n",
       "    <tr>\n",
       "      <th>1</th>\n",
       "      <td>“It is our choices, Harry, that show what we t...</td>\n",
       "      <td>J.K. Rowling</td>\n",
       "      <td>abilities, choices</td>\n",
       "    </tr>\n",
       "    <tr>\n",
       "      <th>2</th>\n",
       "      <td>“There are only two ways to live your life. On...</td>\n",
       "      <td>Albert Einstein</td>\n",
       "      <td>inspirational, life, live, miracle, miracles</td>\n",
       "    </tr>\n",
       "    <tr>\n",
       "      <th>3</th>\n",
       "      <td>“The person, be it gentleman or lady, who has ...</td>\n",
       "      <td>Jane Austen</td>\n",
       "      <td>aliteracy, books, classic, humor</td>\n",
       "    </tr>\n",
       "    <tr>\n",
       "      <th>4</th>\n",
       "      <td>“Imperfection is beauty, madness is genius and...</td>\n",
       "      <td>Marilyn Monroe</td>\n",
       "      <td>be-yourself, inspirational</td>\n",
       "    </tr>\n",
       "  </tbody>\n",
       "</table>\n",
       "</div>"
      ],
      "text/plain": [
       "                                               Quote           Author  \\\n",
       "0  “The world as we have created it is a process ...  Albert Einstein   \n",
       "1  “It is our choices, Harry, that show what we t...     J.K. Rowling   \n",
       "2  “There are only two ways to live your life. On...  Albert Einstein   \n",
       "3  “The person, be it gentleman or lady, who has ...      Jane Austen   \n",
       "4  “Imperfection is beauty, madness is genius and...   Marilyn Monroe   \n",
       "\n",
       "                                           Tags  \n",
       "0        change, deep-thoughts, thinking, world  \n",
       "1                            abilities, choices  \n",
       "2  inspirational, life, live, miracle, miracles  \n",
       "3              aliteracy, books, classic, humor  \n",
       "4                    be-yourself, inspirational  "
      ]
     },
     "execution_count": 21,
     "metadata": {},
     "output_type": "execute_result"
    }
   ],
   "source": [
    "soup = BeautifulSoup(response.text, \"html.parser\")\n",
    "quote_blocks = soup.find_all(\"div\", class_=\"quote\")\n",
    "all_quotes = []\n",
    "for q in quote_blocks:\n",
    "    text = q.find(\"span\", class_=\"text\").get_text(strip=True)\n",
    "    author = q.find(\"small\", class_=\"author\").get_text(strip=True)\n",
    "    tags = [tag.get_text(strip=True) for tag in q.find_all(\"a\", class_=\"tag\")]\n",
    "    all_quotes.append({\"Quote\": text,\"Author\": author,\"Tags\": \", \".join(tags)})\n",
    "df_quotes = pd.DataFrame(all_quotes)\n",
    "df_quotes.head()"
   ]
  },
  {
   "cell_type": "markdown",
   "id": "56915057-256b-4cc6-8f4c-61d2d8e46d0d",
   "metadata": {},
   "source": [
    "## Save to CSV\n",
    "We save the scrapped data to a CSV file for future analysis, sharing, or visualization."
   ]
  },
  {
   "cell_type": "code",
   "execution_count": 24,
   "id": "07be9519-2623-4859-bdbb-17bf46ed0920",
   "metadata": {},
   "outputs": [
    {
     "name": "stdout",
     "output_type": "stream",
     "text": [
      "Quotes saved to quotes.csv\n"
     ]
    }
   ],
   "source": [
    "df_quotes.to_csv(\"quotes.csv\", index=False)\n",
    "print(\"Quotes saved to quotes.csv\")"
   ]
  },
  {
   "cell_type": "markdown",
   "id": "04390328-0df9-4613-a8f7-3f5a0d280030",
   "metadata": {},
   "source": [
    "## Simple Data Analysis\n",
    "Let's use Pandas to see which authors appear most frequently and what tags are popular."
   ]
  },
  {
   "cell_type": "code",
   "execution_count": 27,
   "id": "880895ee-d5a8-455e-8978-534549c3162e",
   "metadata": {},
   "outputs": [
    {
     "name": "stdout",
     "output_type": "stream",
     "text": [
      "Author counts:\n",
      "Author\n",
      "Albert Einstein      3\n",
      "J.K. Rowling         1\n",
      "Jane Austen          1\n",
      "Marilyn Monroe       1\n",
      "André Gide           1\n",
      "Thomas A. Edison     1\n",
      "Eleanor Roosevelt    1\n",
      "Steve Martin         1\n",
      "Name: count, dtype: int64\n"
     ]
    },
    {
     "data": {
      "text/plain": [
       "inspirational                      3\n",
       "humor                              2\n",
       "life                               2\n",
       "change                             1\n",
       "obvious                            1\n",
       "misattributed-eleanor-roosevelt    1\n",
       "paraphrased                        1\n",
       "failure                            1\n",
       "edison                             1\n",
       "love                               1\n",
       "Name: count, dtype: int64"
      ]
     },
     "execution_count": 27,
     "metadata": {},
     "output_type": "execute_result"
    }
   ],
   "source": [
    "print(\"Author counts:\")\n",
    "print(df_quotes[\"Author\"].value_counts())\n",
    "tags_list = []\n",
    "for tag_string in df_quotes[\"Tags\"]:\n",
    "    tags_list.extend([t.strip() for t in tag_string.split(\",\") if t])\n",
    "pd.Series(tags_list).value_counts().head(10)"
   ]
  },
  {
   "cell_type": "markdown",
   "id": "95c822d0-3ab8-4fc4-942b-3ac97ce05107",
   "metadata": {},
   "source": [
    "## Notes and Ethics\n",
    "- This site is designed for learning; **never scrape commercial websites without checking their robots.txt and terms of service.**\n",
    "- You can extend this code for multi page scraping by following \"Next\" links."
   ]
  },
  {
   "cell_type": "markdown",
   "id": "d5db0a1c-46d0-4a6b-a2c1-37ee32e9f855",
   "metadata": {},
   "source": [
    "## Next Steps\n",
    "- Scrape all pages by following the pagination links.\n",
    "- Analyze sentiment or wordclouds of the quotes.\n",
    "- Try scraping job listings, shop items, or news headlines (always check site policy)."
   ]
  },
  {
   "cell_type": "markdown",
   "id": "4b672a5b-c959-49c2-9c4c-d36da463fe15",
   "metadata": {},
   "source": [
    "## About This Notebook\n",
    "**Author:** Aryan Tyagi\n",
    "**Location:** New Delhi, India\n",
    "**Tools:** Python, Requests, BeautifulSoup, Pandas"
   ]
  },
  {
   "cell_type": "markdown",
   "id": "eb265720-d39e-46ca-bb37-4b791f71b5d2",
   "metadata": {},
   "source": [
    "## References\n",
    "- https://www.crummy.com/software/BeautifulSoup/bs4/doc/\n",
    "- https://docs.python-requests.org/\n",
    "- http://quotes.toscrape.com"
   ]
  },
  {
   "cell_type": "code",
   "execution_count": null,
   "id": "8f2b48be-e762-4cfa-b671-6c939cc3316b",
   "metadata": {},
   "outputs": [],
   "source": []
  }
 ],
 "metadata": {
  "kernelspec": {
   "display_name": "Python 3 (ipykernel)",
   "language": "python",
   "name": "python3"
  },
  "language_info": {
   "codemirror_mode": {
    "name": "ipython",
    "version": 3
   },
   "file_extension": ".py",
   "mimetype": "text/x-python",
   "name": "python",
   "nbconvert_exporter": "python",
   "pygments_lexer": "ipython3",
   "version": "3.12.7"
  }
 },
 "nbformat": 4,
 "nbformat_minor": 5
}
